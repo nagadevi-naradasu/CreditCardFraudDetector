{
 "cells": [
  {
   "cell_type": "markdown",
   "id": "c1fe9c66",
   "metadata": {
    "papermill": {
     "duration": 0.00625,
     "end_time": "2025-02-19T06:08:23.686220",
     "exception": false,
     "start_time": "2025-02-19T06:08:23.679970",
     "status": "completed"
    },
    "tags": []
   },
   "source": [
    "### IMPORTATIONS"
   ]
  },
  {
   "cell_type": "markdown",
   "id": "2df6c7b0",
   "metadata": {
    "papermill": {
     "duration": 0.005267,
     "end_time": "2025-02-19T06:08:23.697221",
     "exception": false,
     "start_time": "2025-02-19T06:08:23.691954",
     "status": "completed"
    },
    "tags": []
   },
   "source": [
    "# 🚀 Credit Card Fraud Detection using XGBoost\n",
    "## 🔹 Overview\n",
    "- **Dataset:** Credit Card Transactions\n",
    "- **Model:** XGBoost (Optimized with Hyperparameter Tuning)\n",
    "- **Performance:** AUC-ROC = 0.9998, F1-score = 0.9998\n"
   ]
  },
  {
   "cell_type": "code",
   "execution_count": 1,
   "id": "a4e57c2e",
   "metadata": {
    "execution": {
     "iopub.execute_input": "2025-02-19T06:08:23.709282Z",
     "iopub.status.busy": "2025-02-19T06:08:23.708891Z",
     "iopub.status.idle": "2025-02-19T06:08:24.648314Z",
     "shell.execute_reply": "2025-02-19T06:08:24.647237Z"
    },
    "papermill": {
     "duration": 0.947674,
     "end_time": "2025-02-19T06:08:24.650240",
     "exception": false,
     "start_time": "2025-02-19T06:08:23.702566",
     "status": "completed"
    },
    "tags": []
   },
   "outputs": [],
   "source": [
    "import pandas as pd\n",
    "import numpy as np"
   ]
  },
  {
   "cell_type": "code",
   "execution_count": 2,
   "id": "54c3241a",
   "metadata": {
    "execution": {
     "iopub.execute_input": "2025-02-19T06:08:24.662421Z",
     "iopub.status.busy": "2025-02-19T06:08:24.661873Z",
     "iopub.status.idle": "2025-02-19T06:08:33.826195Z",
     "shell.execute_reply": "2025-02-19T06:08:33.824923Z"
    },
    "papermill": {
     "duration": 9.172308,
     "end_time": "2025-02-19T06:08:33.828105",
     "exception": false,
     "start_time": "2025-02-19T06:08:24.655797",
     "status": "completed"
    },
    "tags": []
   },
   "outputs": [],
   "source": [
    "df = pd.read_csv('/kaggle/input/credit-card-fraud-detection-dataset-2023/creditcard_2023.csv')"
   ]
  },
  {
   "cell_type": "code",
   "execution_count": 3,
   "id": "b3cc72da",
   "metadata": {
    "execution": {
     "iopub.execute_input": "2025-02-19T06:08:33.840365Z",
     "iopub.status.busy": "2025-02-19T06:08:33.839967Z",
     "iopub.status.idle": "2025-02-19T06:08:33.882327Z",
     "shell.execute_reply": "2025-02-19T06:08:33.881269Z"
    },
    "papermill": {
     "duration": 0.050165,
     "end_time": "2025-02-19T06:08:33.884060",
     "exception": false,
     "start_time": "2025-02-19T06:08:33.833895",
     "status": "completed"
    },
    "tags": []
   },
   "outputs": [
    {
     "data": {
      "text/html": [
       "<div>\n",
       "<style scoped>\n",
       "    .dataframe tbody tr th:only-of-type {\n",
       "        vertical-align: middle;\n",
       "    }\n",
       "\n",
       "    .dataframe tbody tr th {\n",
       "        vertical-align: top;\n",
       "    }\n",
       "\n",
       "    .dataframe thead th {\n",
       "        text-align: right;\n",
       "    }\n",
       "</style>\n",
       "<table border=\"1\" class=\"dataframe\">\n",
       "  <thead>\n",
       "    <tr style=\"text-align: right;\">\n",
       "      <th></th>\n",
       "      <th>id</th>\n",
       "      <th>V1</th>\n",
       "      <th>V2</th>\n",
       "      <th>V3</th>\n",
       "      <th>V4</th>\n",
       "      <th>V5</th>\n",
       "      <th>V6</th>\n",
       "      <th>V7</th>\n",
       "      <th>V8</th>\n",
       "      <th>V9</th>\n",
       "      <th>...</th>\n",
       "      <th>V21</th>\n",
       "      <th>V22</th>\n",
       "      <th>V23</th>\n",
       "      <th>V24</th>\n",
       "      <th>V25</th>\n",
       "      <th>V26</th>\n",
       "      <th>V27</th>\n",
       "      <th>V28</th>\n",
       "      <th>Amount</th>\n",
       "      <th>Class</th>\n",
       "    </tr>\n",
       "  </thead>\n",
       "  <tbody>\n",
       "    <tr>\n",
       "      <th>0</th>\n",
       "      <td>0</td>\n",
       "      <td>-0.260648</td>\n",
       "      <td>-0.469648</td>\n",
       "      <td>2.496266</td>\n",
       "      <td>-0.083724</td>\n",
       "      <td>0.129681</td>\n",
       "      <td>0.732898</td>\n",
       "      <td>0.519014</td>\n",
       "      <td>-0.130006</td>\n",
       "      <td>0.727159</td>\n",
       "      <td>...</td>\n",
       "      <td>-0.110552</td>\n",
       "      <td>0.217606</td>\n",
       "      <td>-0.134794</td>\n",
       "      <td>0.165959</td>\n",
       "      <td>0.126280</td>\n",
       "      <td>-0.434824</td>\n",
       "      <td>-0.081230</td>\n",
       "      <td>-0.151045</td>\n",
       "      <td>17982.10</td>\n",
       "      <td>0</td>\n",
       "    </tr>\n",
       "    <tr>\n",
       "      <th>1</th>\n",
       "      <td>1</td>\n",
       "      <td>0.985100</td>\n",
       "      <td>-0.356045</td>\n",
       "      <td>0.558056</td>\n",
       "      <td>-0.429654</td>\n",
       "      <td>0.277140</td>\n",
       "      <td>0.428605</td>\n",
       "      <td>0.406466</td>\n",
       "      <td>-0.133118</td>\n",
       "      <td>0.347452</td>\n",
       "      <td>...</td>\n",
       "      <td>-0.194936</td>\n",
       "      <td>-0.605761</td>\n",
       "      <td>0.079469</td>\n",
       "      <td>-0.577395</td>\n",
       "      <td>0.190090</td>\n",
       "      <td>0.296503</td>\n",
       "      <td>-0.248052</td>\n",
       "      <td>-0.064512</td>\n",
       "      <td>6531.37</td>\n",
       "      <td>0</td>\n",
       "    </tr>\n",
       "    <tr>\n",
       "      <th>2</th>\n",
       "      <td>2</td>\n",
       "      <td>-0.260272</td>\n",
       "      <td>-0.949385</td>\n",
       "      <td>1.728538</td>\n",
       "      <td>-0.457986</td>\n",
       "      <td>0.074062</td>\n",
       "      <td>1.419481</td>\n",
       "      <td>0.743511</td>\n",
       "      <td>-0.095576</td>\n",
       "      <td>-0.261297</td>\n",
       "      <td>...</td>\n",
       "      <td>-0.005020</td>\n",
       "      <td>0.702906</td>\n",
       "      <td>0.945045</td>\n",
       "      <td>-1.154666</td>\n",
       "      <td>-0.605564</td>\n",
       "      <td>-0.312895</td>\n",
       "      <td>-0.300258</td>\n",
       "      <td>-0.244718</td>\n",
       "      <td>2513.54</td>\n",
       "      <td>0</td>\n",
       "    </tr>\n",
       "    <tr>\n",
       "      <th>3</th>\n",
       "      <td>3</td>\n",
       "      <td>-0.152152</td>\n",
       "      <td>-0.508959</td>\n",
       "      <td>1.746840</td>\n",
       "      <td>-1.090178</td>\n",
       "      <td>0.249486</td>\n",
       "      <td>1.143312</td>\n",
       "      <td>0.518269</td>\n",
       "      <td>-0.065130</td>\n",
       "      <td>-0.205698</td>\n",
       "      <td>...</td>\n",
       "      <td>-0.146927</td>\n",
       "      <td>-0.038212</td>\n",
       "      <td>-0.214048</td>\n",
       "      <td>-1.893131</td>\n",
       "      <td>1.003963</td>\n",
       "      <td>-0.515950</td>\n",
       "      <td>-0.165316</td>\n",
       "      <td>0.048424</td>\n",
       "      <td>5384.44</td>\n",
       "      <td>0</td>\n",
       "    </tr>\n",
       "    <tr>\n",
       "      <th>4</th>\n",
       "      <td>4</td>\n",
       "      <td>-0.206820</td>\n",
       "      <td>-0.165280</td>\n",
       "      <td>1.527053</td>\n",
       "      <td>-0.448293</td>\n",
       "      <td>0.106125</td>\n",
       "      <td>0.530549</td>\n",
       "      <td>0.658849</td>\n",
       "      <td>-0.212660</td>\n",
       "      <td>1.049921</td>\n",
       "      <td>...</td>\n",
       "      <td>-0.106984</td>\n",
       "      <td>0.729727</td>\n",
       "      <td>-0.161666</td>\n",
       "      <td>0.312561</td>\n",
       "      <td>-0.414116</td>\n",
       "      <td>1.071126</td>\n",
       "      <td>0.023712</td>\n",
       "      <td>0.419117</td>\n",
       "      <td>14278.97</td>\n",
       "      <td>0</td>\n",
       "    </tr>\n",
       "  </tbody>\n",
       "</table>\n",
       "<p>5 rows × 31 columns</p>\n",
       "</div>"
      ],
      "text/plain": [
       "   id        V1        V2        V3        V4        V5        V6        V7  \\\n",
       "0   0 -0.260648 -0.469648  2.496266 -0.083724  0.129681  0.732898  0.519014   \n",
       "1   1  0.985100 -0.356045  0.558056 -0.429654  0.277140  0.428605  0.406466   \n",
       "2   2 -0.260272 -0.949385  1.728538 -0.457986  0.074062  1.419481  0.743511   \n",
       "3   3 -0.152152 -0.508959  1.746840 -1.090178  0.249486  1.143312  0.518269   \n",
       "4   4 -0.206820 -0.165280  1.527053 -0.448293  0.106125  0.530549  0.658849   \n",
       "\n",
       "         V8        V9  ...       V21       V22       V23       V24       V25  \\\n",
       "0 -0.130006  0.727159  ... -0.110552  0.217606 -0.134794  0.165959  0.126280   \n",
       "1 -0.133118  0.347452  ... -0.194936 -0.605761  0.079469 -0.577395  0.190090   \n",
       "2 -0.095576 -0.261297  ... -0.005020  0.702906  0.945045 -1.154666 -0.605564   \n",
       "3 -0.065130 -0.205698  ... -0.146927 -0.038212 -0.214048 -1.893131  1.003963   \n",
       "4 -0.212660  1.049921  ... -0.106984  0.729727 -0.161666  0.312561 -0.414116   \n",
       "\n",
       "        V26       V27       V28    Amount  Class  \n",
       "0 -0.434824 -0.081230 -0.151045  17982.10      0  \n",
       "1  0.296503 -0.248052 -0.064512   6531.37      0  \n",
       "2 -0.312895 -0.300258 -0.244718   2513.54      0  \n",
       "3 -0.515950 -0.165316  0.048424   5384.44      0  \n",
       "4  1.071126  0.023712  0.419117  14278.97      0  \n",
       "\n",
       "[5 rows x 31 columns]"
      ]
     },
     "execution_count": 3,
     "metadata": {},
     "output_type": "execute_result"
    }
   ],
   "source": [
    "df.head()"
   ]
  },
  {
   "cell_type": "markdown",
   "id": "07db24d9",
   "metadata": {
    "papermill": {
     "duration": 0.00533,
     "end_time": "2025-02-19T06:08:33.895250",
     "exception": false,
     "start_time": "2025-02-19T06:08:33.889920",
     "status": "completed"
    },
    "tags": []
   },
   "source": [
    "### DATA PRE-PROCESSING"
   ]
  },
  {
   "cell_type": "code",
   "execution_count": 4,
   "id": "90d469c9",
   "metadata": {
    "execution": {
     "iopub.execute_input": "2025-02-19T06:08:33.907744Z",
     "iopub.status.busy": "2025-02-19T06:08:33.907377Z",
     "iopub.status.idle": "2025-02-19T06:08:33.983934Z",
     "shell.execute_reply": "2025-02-19T06:08:33.982306Z"
    },
    "papermill": {
     "duration": 0.084981,
     "end_time": "2025-02-19T06:08:33.985760",
     "exception": false,
     "start_time": "2025-02-19T06:08:33.900779",
     "status": "completed"
    },
    "tags": []
   },
   "outputs": [
    {
     "name": "stdout",
     "output_type": "stream",
     "text": [
      "id        0\n",
      "V1        0\n",
      "V2        0\n",
      "V3        0\n",
      "V4        0\n",
      "V5        0\n",
      "V6        0\n",
      "V7        0\n",
      "V8        0\n",
      "V9        0\n",
      "V10       0\n",
      "V11       0\n",
      "V12       0\n",
      "V13       0\n",
      "V14       0\n",
      "V15       0\n",
      "V16       0\n",
      "V17       0\n",
      "V18       0\n",
      "V19       0\n",
      "V20       0\n",
      "V21       0\n",
      "V22       0\n",
      "V23       0\n",
      "V24       0\n",
      "V25       0\n",
      "V26       0\n",
      "V27       0\n",
      "V28       0\n",
      "Amount    0\n",
      "Class     0\n",
      "dtype: int64\n"
     ]
    }
   ],
   "source": [
    "print(df.isnull().sum())"
   ]
  },
  {
   "cell_type": "code",
   "execution_count": 5,
   "id": "7b4675a8",
   "metadata": {
    "execution": {
     "iopub.execute_input": "2025-02-19T06:08:33.998815Z",
     "iopub.status.busy": "2025-02-19T06:08:33.998456Z",
     "iopub.status.idle": "2025-02-19T06:08:34.006058Z",
     "shell.execute_reply": "2025-02-19T06:08:34.005180Z"
    },
    "papermill": {
     "duration": 0.016154,
     "end_time": "2025-02-19T06:08:34.007826",
     "exception": false,
     "start_time": "2025-02-19T06:08:33.991672",
     "status": "completed"
    },
    "tags": []
   },
   "outputs": [
    {
     "data": {
      "text/plain": [
       "id          int64\n",
       "V1        float64\n",
       "V2        float64\n",
       "V3        float64\n",
       "V4        float64\n",
       "V5        float64\n",
       "V6        float64\n",
       "V7        float64\n",
       "V8        float64\n",
       "V9        float64\n",
       "V10       float64\n",
       "V11       float64\n",
       "V12       float64\n",
       "V13       float64\n",
       "V14       float64\n",
       "V15       float64\n",
       "V16       float64\n",
       "V17       float64\n",
       "V18       float64\n",
       "V19       float64\n",
       "V20       float64\n",
       "V21       float64\n",
       "V22       float64\n",
       "V23       float64\n",
       "V24       float64\n",
       "V25       float64\n",
       "V26       float64\n",
       "V27       float64\n",
       "V28       float64\n",
       "Amount    float64\n",
       "Class       int64\n",
       "dtype: object"
      ]
     },
     "execution_count": 5,
     "metadata": {},
     "output_type": "execute_result"
    }
   ],
   "source": [
    "df.dtypes"
   ]
  },
  {
   "cell_type": "code",
   "execution_count": 6,
   "id": "9849c020",
   "metadata": {
    "execution": {
     "iopub.execute_input": "2025-02-19T06:08:34.021204Z",
     "iopub.status.busy": "2025-02-19T06:08:34.020827Z",
     "iopub.status.idle": "2025-02-19T06:08:35.283761Z",
     "shell.execute_reply": "2025-02-19T06:08:35.282851Z"
    },
    "papermill": {
     "duration": 1.271776,
     "end_time": "2025-02-19T06:08:35.285744",
     "exception": false,
     "start_time": "2025-02-19T06:08:34.013968",
     "status": "completed"
    },
    "tags": []
   },
   "outputs": [],
   "source": [
    "from sklearn.preprocessing import MinMaxScaler\n",
    "scaler = MinMaxScaler()\n",
    "\n",
    "df['Amount'] = scaler.fit_transform(df['Amount'].values.reshape(-1,1))"
   ]
  },
  {
   "cell_type": "code",
   "execution_count": 7,
   "id": "b19f07d5",
   "metadata": {
    "execution": {
     "iopub.execute_input": "2025-02-19T06:08:35.301734Z",
     "iopub.status.busy": "2025-02-19T06:08:35.301215Z",
     "iopub.status.idle": "2025-02-19T06:08:35.311986Z",
     "shell.execute_reply": "2025-02-19T06:08:35.310991Z"
    },
    "papermill": {
     "duration": 0.020216,
     "end_time": "2025-02-19T06:08:35.313713",
     "exception": false,
     "start_time": "2025-02-19T06:08:35.293497",
     "status": "completed"
    },
    "tags": []
   },
   "outputs": [],
   "source": [
    "fraud_count = np.sum(df['Class']==1)"
   ]
  },
  {
   "cell_type": "code",
   "execution_count": 8,
   "id": "823e9614",
   "metadata": {
    "execution": {
     "iopub.execute_input": "2025-02-19T06:08:35.326610Z",
     "iopub.status.busy": "2025-02-19T06:08:35.326286Z",
     "iopub.status.idle": "2025-02-19T06:08:35.331633Z",
     "shell.execute_reply": "2025-02-19T06:08:35.330256Z"
    },
    "papermill": {
     "duration": 0.013857,
     "end_time": "2025-02-19T06:08:35.333434",
     "exception": false,
     "start_time": "2025-02-19T06:08:35.319577",
     "status": "completed"
    },
    "tags": []
   },
   "outputs": [
    {
     "name": "stdout",
     "output_type": "stream",
     "text": [
      "284315\n"
     ]
    }
   ],
   "source": [
    "print(fraud_count)"
   ]
  },
  {
   "cell_type": "code",
   "execution_count": 9,
   "id": "e91f946f",
   "metadata": {
    "execution": {
     "iopub.execute_input": "2025-02-19T06:08:35.346453Z",
     "iopub.status.busy": "2025-02-19T06:08:35.346047Z",
     "iopub.status.idle": "2025-02-19T06:08:35.461884Z",
     "shell.execute_reply": "2025-02-19T06:08:35.460690Z"
    },
    "papermill": {
     "duration": 0.124363,
     "end_time": "2025-02-19T06:08:35.463762",
     "exception": false,
     "start_time": "2025-02-19T06:08:35.339399",
     "status": "completed"
    },
    "tags": []
   },
   "outputs": [],
   "source": [
    "X = df.drop(['Class'], axis=1)\n",
    "X = X.drop(columns=['id'])\n",
    "y = df['Class']\n"
   ]
  },
  {
   "cell_type": "code",
   "execution_count": 10,
   "id": "eae79602",
   "metadata": {
    "execution": {
     "iopub.execute_input": "2025-02-19T06:08:35.476984Z",
     "iopub.status.busy": "2025-02-19T06:08:35.476511Z",
     "iopub.status.idle": "2025-02-19T06:08:35.800366Z",
     "shell.execute_reply": "2025-02-19T06:08:35.799123Z"
    },
    "papermill": {
     "duration": 0.332896,
     "end_time": "2025-02-19T06:08:35.802703",
     "exception": false,
     "start_time": "2025-02-19T06:08:35.469807",
     "status": "completed"
    },
    "tags": []
   },
   "outputs": [],
   "source": [
    "from sklearn.model_selection import train_test_split\n",
    "X_train, X_test, y_train, y_test = train_test_split(X, y, test_size=0.3, random_state=0)"
   ]
  },
  {
   "cell_type": "markdown",
   "id": "5eb70b8e",
   "metadata": {
    "papermill": {
     "duration": 0.005774,
     "end_time": "2025-02-19T06:08:35.814856",
     "exception": false,
     "start_time": "2025-02-19T06:08:35.809082",
     "status": "completed"
    },
    "tags": []
   },
   "source": [
    "### MODEL BUILDING, HYPERPARAMETER TUNING AND TRAINING"
   ]
  },
  {
   "cell_type": "code",
   "execution_count": 11,
   "id": "cdad5a5c",
   "metadata": {
    "execution": {
     "iopub.execute_input": "2025-02-19T06:08:35.828064Z",
     "iopub.status.busy": "2025-02-19T06:08:35.827723Z",
     "iopub.status.idle": "2025-02-19T06:08:36.162218Z",
     "shell.execute_reply": "2025-02-19T06:08:36.161113Z"
    },
    "papermill": {
     "duration": 0.343423,
     "end_time": "2025-02-19T06:08:36.164202",
     "exception": false,
     "start_time": "2025-02-19T06:08:35.820779",
     "status": "completed"
    },
    "tags": []
   },
   "outputs": [],
   "source": [
    "import xgboost as xgb\n",
    "from sklearn.metrics import classification_report, confusion_matrix\n",
    "from collections import Counter\n",
    "fraud_weight = len(y) / (2 * Counter(y)[1])\n",
    "model = xgb.XGBClassifier(scale_pos_weight=fraud_weight,reg_alpha=0.5, reg_lambda=5, max_depth=3, min_child_weights=5, subsample=0.7, colsample_bytree=0.7, use_label_encoder=False, eval_metric='logloss')"
   ]
  },
  {
   "cell_type": "code",
   "execution_count": 12,
   "id": "b3502369",
   "metadata": {
    "execution": {
     "iopub.execute_input": "2025-02-19T06:08:36.177857Z",
     "iopub.status.busy": "2025-02-19T06:08:36.177521Z",
     "iopub.status.idle": "2025-02-19T06:08:39.519123Z",
     "shell.execute_reply": "2025-02-19T06:08:39.517989Z"
    },
    "papermill": {
     "duration": 3.35034,
     "end_time": "2025-02-19T06:08:39.520992",
     "exception": false,
     "start_time": "2025-02-19T06:08:36.170652",
     "status": "completed"
    },
    "tags": []
   },
   "outputs": [
    {
     "name": "stderr",
     "output_type": "stream",
     "text": [
      "/usr/local/lib/python3.10/dist-packages/xgboost/core.py:160: UserWarning: [06:08:37] WARNING: /workspace/src/learner.cc:742: \n",
      "Parameters: { \"min_child_weights\" } are not used.\n",
      "\n",
      "  warnings.warn(smsg, UserWarning)\n"
     ]
    },
    {
     "data": {
      "text/html": [
       "<style>#sk-container-id-1 {color: black;background-color: white;}#sk-container-id-1 pre{padding: 0;}#sk-container-id-1 div.sk-toggleable {background-color: white;}#sk-container-id-1 label.sk-toggleable__label {cursor: pointer;display: block;width: 100%;margin-bottom: 0;padding: 0.3em;box-sizing: border-box;text-align: center;}#sk-container-id-1 label.sk-toggleable__label-arrow:before {content: \"▸\";float: left;margin-right: 0.25em;color: #696969;}#sk-container-id-1 label.sk-toggleable__label-arrow:hover:before {color: black;}#sk-container-id-1 div.sk-estimator:hover label.sk-toggleable__label-arrow:before {color: black;}#sk-container-id-1 div.sk-toggleable__content {max-height: 0;max-width: 0;overflow: hidden;text-align: left;background-color: #f0f8ff;}#sk-container-id-1 div.sk-toggleable__content pre {margin: 0.2em;color: black;border-radius: 0.25em;background-color: #f0f8ff;}#sk-container-id-1 input.sk-toggleable__control:checked~div.sk-toggleable__content {max-height: 200px;max-width: 100%;overflow: auto;}#sk-container-id-1 input.sk-toggleable__control:checked~label.sk-toggleable__label-arrow:before {content: \"▾\";}#sk-container-id-1 div.sk-estimator input.sk-toggleable__control:checked~label.sk-toggleable__label {background-color: #d4ebff;}#sk-container-id-1 div.sk-label input.sk-toggleable__control:checked~label.sk-toggleable__label {background-color: #d4ebff;}#sk-container-id-1 input.sk-hidden--visually {border: 0;clip: rect(1px 1px 1px 1px);clip: rect(1px, 1px, 1px, 1px);height: 1px;margin: -1px;overflow: hidden;padding: 0;position: absolute;width: 1px;}#sk-container-id-1 div.sk-estimator {font-family: monospace;background-color: #f0f8ff;border: 1px dotted black;border-radius: 0.25em;box-sizing: border-box;margin-bottom: 0.5em;}#sk-container-id-1 div.sk-estimator:hover {background-color: #d4ebff;}#sk-container-id-1 div.sk-parallel-item::after {content: \"\";width: 100%;border-bottom: 1px solid gray;flex-grow: 1;}#sk-container-id-1 div.sk-label:hover label.sk-toggleable__label {background-color: #d4ebff;}#sk-container-id-1 div.sk-serial::before {content: \"\";position: absolute;border-left: 1px solid gray;box-sizing: border-box;top: 0;bottom: 0;left: 50%;z-index: 0;}#sk-container-id-1 div.sk-serial {display: flex;flex-direction: column;align-items: center;background-color: white;padding-right: 0.2em;padding-left: 0.2em;position: relative;}#sk-container-id-1 div.sk-item {position: relative;z-index: 1;}#sk-container-id-1 div.sk-parallel {display: flex;align-items: stretch;justify-content: center;background-color: white;position: relative;}#sk-container-id-1 div.sk-item::before, #sk-container-id-1 div.sk-parallel-item::before {content: \"\";position: absolute;border-left: 1px solid gray;box-sizing: border-box;top: 0;bottom: 0;left: 50%;z-index: -1;}#sk-container-id-1 div.sk-parallel-item {display: flex;flex-direction: column;z-index: 1;position: relative;background-color: white;}#sk-container-id-1 div.sk-parallel-item:first-child::after {align-self: flex-end;width: 50%;}#sk-container-id-1 div.sk-parallel-item:last-child::after {align-self: flex-start;width: 50%;}#sk-container-id-1 div.sk-parallel-item:only-child::after {width: 0;}#sk-container-id-1 div.sk-dashed-wrapped {border: 1px dashed gray;margin: 0 0.4em 0.5em 0.4em;box-sizing: border-box;padding-bottom: 0.4em;background-color: white;}#sk-container-id-1 div.sk-label label {font-family: monospace;font-weight: bold;display: inline-block;line-height: 1.2em;}#sk-container-id-1 div.sk-label-container {text-align: center;}#sk-container-id-1 div.sk-container {/* jupyter's `normalize.less` sets `[hidden] { display: none; }` but bootstrap.min.css set `[hidden] { display: none !important; }` so we also need the `!important` here to be able to override the default hidden behavior on the sphinx rendered scikit-learn.org. See: https://github.com/scikit-learn/scikit-learn/issues/21755 */display: inline-block !important;position: relative;}#sk-container-id-1 div.sk-text-repr-fallback {display: none;}</style><div id=\"sk-container-id-1\" class=\"sk-top-container\"><div class=\"sk-text-repr-fallback\"><pre>XGBClassifier(base_score=None, booster=None, callbacks=None,\n",
       "              colsample_bylevel=None, colsample_bynode=None,\n",
       "              colsample_bytree=0.7, device=None, early_stopping_rounds=None,\n",
       "              enable_categorical=False, eval_metric=&#x27;logloss&#x27;,\n",
       "              feature_types=None, gamma=None, grow_policy=None,\n",
       "              importance_type=None, interaction_constraints=None,\n",
       "              learning_rate=None, max_bin=None, max_cat_threshold=None,\n",
       "              max_cat_to_onehot=None, max_delta_step=None, max_depth=3,\n",
       "              max_leaves=None, min_child_weight=None, min_child_weights=5,\n",
       "              missing=nan, monotone_constraints=None, multi_strategy=None,\n",
       "              n_estimators=None, n_jobs=None, num_parallel_tree=None, ...)</pre><b>In a Jupyter environment, please rerun this cell to show the HTML representation or trust the notebook. <br />On GitHub, the HTML representation is unable to render, please try loading this page with nbviewer.org.</b></div><div class=\"sk-container\" hidden><div class=\"sk-item\"><div class=\"sk-estimator sk-toggleable\"><input class=\"sk-toggleable__control sk-hidden--visually\" id=\"sk-estimator-id-1\" type=\"checkbox\" checked><label for=\"sk-estimator-id-1\" class=\"sk-toggleable__label sk-toggleable__label-arrow\">XGBClassifier</label><div class=\"sk-toggleable__content\"><pre>XGBClassifier(base_score=None, booster=None, callbacks=None,\n",
       "              colsample_bylevel=None, colsample_bynode=None,\n",
       "              colsample_bytree=0.7, device=None, early_stopping_rounds=None,\n",
       "              enable_categorical=False, eval_metric=&#x27;logloss&#x27;,\n",
       "              feature_types=None, gamma=None, grow_policy=None,\n",
       "              importance_type=None, interaction_constraints=None,\n",
       "              learning_rate=None, max_bin=None, max_cat_threshold=None,\n",
       "              max_cat_to_onehot=None, max_delta_step=None, max_depth=3,\n",
       "              max_leaves=None, min_child_weight=None, min_child_weights=5,\n",
       "              missing=nan, monotone_constraints=None, multi_strategy=None,\n",
       "              n_estimators=None, n_jobs=None, num_parallel_tree=None, ...)</pre></div></div></div></div></div>"
      ],
      "text/plain": [
       "XGBClassifier(base_score=None, booster=None, callbacks=None,\n",
       "              colsample_bylevel=None, colsample_bynode=None,\n",
       "              colsample_bytree=0.7, device=None, early_stopping_rounds=None,\n",
       "              enable_categorical=False, eval_metric='logloss',\n",
       "              feature_types=None, gamma=None, grow_policy=None,\n",
       "              importance_type=None, interaction_constraints=None,\n",
       "              learning_rate=None, max_bin=None, max_cat_threshold=None,\n",
       "              max_cat_to_onehot=None, max_delta_step=None, max_depth=3,\n",
       "              max_leaves=None, min_child_weight=None, min_child_weights=5,\n",
       "              missing=nan, monotone_constraints=None, multi_strategy=None,\n",
       "              n_estimators=None, n_jobs=None, num_parallel_tree=None, ...)"
      ]
     },
     "execution_count": 12,
     "metadata": {},
     "output_type": "execute_result"
    }
   ],
   "source": [
    "model.fit(X_train, y_train)"
   ]
  },
  {
   "cell_type": "markdown",
   "id": "3ab993d1",
   "metadata": {
    "papermill": {
     "duration": 0.005888,
     "end_time": "2025-02-19T06:08:39.533287",
     "exception": false,
     "start_time": "2025-02-19T06:08:39.527399",
     "status": "completed"
    },
    "tags": []
   },
   "source": [
    "### MODEL METRICS"
   ]
  },
  {
   "cell_type": "code",
   "execution_count": 13,
   "id": "9d51f863",
   "metadata": {
    "execution": {
     "iopub.execute_input": "2025-02-19T06:08:39.546847Z",
     "iopub.status.busy": "2025-02-19T06:08:39.546457Z",
     "iopub.status.idle": "2025-02-19T06:08:39.661666Z",
     "shell.execute_reply": "2025-02-19T06:08:39.660862Z"
    },
    "papermill": {
     "duration": 0.124521,
     "end_time": "2025-02-19T06:08:39.663953",
     "exception": false,
     "start_time": "2025-02-19T06:08:39.539432",
     "status": "completed"
    },
    "tags": []
   },
   "outputs": [],
   "source": [
    "y_pred = model.predict(X_test)"
   ]
  },
  {
   "cell_type": "code",
   "execution_count": 14,
   "id": "dca4e5ad",
   "metadata": {
    "execution": {
     "iopub.execute_input": "2025-02-19T06:08:39.680101Z",
     "iopub.status.busy": "2025-02-19T06:08:39.679722Z",
     "iopub.status.idle": "2025-02-19T06:08:39.704694Z",
     "shell.execute_reply": "2025-02-19T06:08:39.703494Z"
    },
    "papermill": {
     "duration": 0.034583,
     "end_time": "2025-02-19T06:08:39.706605",
     "exception": false,
     "start_time": "2025-02-19T06:08:39.672022",
     "status": "completed"
    },
    "tags": []
   },
   "outputs": [
    {
     "name": "stdout",
     "output_type": "stream",
     "text": [
      "Accuracy: 99.58%\n"
     ]
    }
   ],
   "source": [
    "from sklearn.metrics import accuracy_score\n",
    "accuracy = accuracy_score(y_test, y_pred)\n",
    "print(\"Accuracy: %.2f%%\" % (accuracy * 100.0))"
   ]
  },
  {
   "cell_type": "code",
   "execution_count": 15,
   "id": "b307b175",
   "metadata": {
    "execution": {
     "iopub.execute_input": "2025-02-19T06:08:39.720321Z",
     "iopub.status.busy": "2025-02-19T06:08:39.719919Z",
     "iopub.status.idle": "2025-02-19T06:08:40.017225Z",
     "shell.execute_reply": "2025-02-19T06:08:40.016155Z"
    },
    "papermill": {
     "duration": 0.305827,
     "end_time": "2025-02-19T06:08:40.018861",
     "exception": false,
     "start_time": "2025-02-19T06:08:39.713034",
     "status": "completed"
    },
    "tags": []
   },
   "outputs": [
    {
     "name": "stdout",
     "output_type": "stream",
     "text": [
      "Log Loss: 0.15170581416964843\n",
      "F1 Score: 0.9958010222580909\n",
      "Precision Score: 0.9948701169706814\n",
      "Recall Score: 0.996733671283234\n"
     ]
    }
   ],
   "source": [
    "from sklearn.metrics import log_loss, f1_score, precision_score, recall_score\n",
    "print(f\"Log Loss: {log_loss(y_test, y_pred)}\")\n",
    "print(f\"F1 Score: {f1_score(y_test, y_pred)}\")\n",
    "print(f\"Precision Score: {precision_score(y_test, y_pred)}\")\n",
    "print(f\"Recall Score: {recall_score(y_test, y_pred)}\")"
   ]
  },
  {
   "cell_type": "code",
   "execution_count": 16,
   "id": "2ae32ea4",
   "metadata": {
    "execution": {
     "iopub.execute_input": "2025-02-19T06:08:40.032815Z",
     "iopub.status.busy": "2025-02-19T06:08:40.032478Z",
     "iopub.status.idle": "2025-02-19T06:08:41.697239Z",
     "shell.execute_reply": "2025-02-19T06:08:41.696042Z"
    },
    "papermill": {
     "duration": 1.673591,
     "end_time": "2025-02-19T06:08:41.698900",
     "exception": false,
     "start_time": "2025-02-19T06:08:40.025309",
     "status": "completed"
    },
    "tags": []
   },
   "outputs": [
    {
     "name": "stdout",
     "output_type": "stream",
     "text": [
      "Train Scores:\n",
      "Log Loss: 0.020126061172174376\n",
      "F1 Score: 0.9959411466260781\n",
      "Precision: 0.995076388749473\n",
      "Recall: 0.9968074088226127\n",
      "\n",
      "Test Scores:\n",
      "Log Loss: 0.020525310651277617\n",
      "F1 Score: 0.9958010222580909\n",
      "Precision: 0.9948701169706814\n",
      "Recall: 0.996733671283234\n"
     ]
    }
   ],
   "source": [
    "from sklearn.metrics import log_loss, f1_score, precision_score, recall_score\n",
    "\n",
    "y_train_pred = model.predict(X_train)\n",
    "y_test_pred = model.predict(X_test)\n",
    "\n",
    "print(\"Train Scores:\")\n",
    "print(\"Log Loss:\", log_loss(y_train, model.predict_proba(X_train)))\n",
    "print(\"F1 Score:\", f1_score(y_train, y_train_pred))\n",
    "print(\"Precision:\", precision_score(y_train, y_train_pred))\n",
    "print(\"Recall:\", recall_score(y_train, y_train_pred))\n",
    "\n",
    "print(\"\\nTest Scores:\")\n",
    "print(\"Log Loss:\", log_loss(y_test, model.predict_proba(X_test)))\n",
    "print(\"F1 Score:\", f1_score(y_test, y_test_pred))\n",
    "print(\"Precision:\", precision_score(y_test, y_test_pred))\n",
    "print(\"Recall:\", recall_score(y_test, y_test_pred))\n"
   ]
  },
  {
   "cell_type": "code",
   "execution_count": 17,
   "id": "b40c7e44",
   "metadata": {
    "execution": {
     "iopub.execute_input": "2025-02-19T06:08:41.714185Z",
     "iopub.status.busy": "2025-02-19T06:08:41.713801Z",
     "iopub.status.idle": "2025-02-19T06:08:41.886520Z",
     "shell.execute_reply": "2025-02-19T06:08:41.885319Z"
    },
    "papermill": {
     "duration": 0.182686,
     "end_time": "2025-02-19T06:08:41.888635",
     "exception": false,
     "start_time": "2025-02-19T06:08:41.705949",
     "status": "completed"
    },
    "tags": []
   },
   "outputs": [
    {
     "name": "stdout",
     "output_type": "stream",
     "text": [
      "AUC: 0.999844722505864\n"
     ]
    }
   ],
   "source": [
    "from sklearn.metrics import roc_auc_score\n",
    "y_test_probs =  model.predict_proba(X_test)[:, 1]\n",
    "auc = roc_auc_score(y_test, y_test_probs)\n",
    "print(f\"AUC: {auc}\")"
   ]
  },
  {
   "cell_type": "code",
   "execution_count": 18,
   "id": "fcbb8e3b",
   "metadata": {
    "execution": {
     "iopub.execute_input": "2025-02-19T06:08:41.903697Z",
     "iopub.status.busy": "2025-02-19T06:08:41.903353Z",
     "iopub.status.idle": "2025-02-19T06:09:00.805651Z",
     "shell.execute_reply": "2025-02-19T06:09:00.804342Z"
    },
    "papermill": {
     "duration": 18.91163,
     "end_time": "2025-02-19T06:09:00.807271",
     "exception": false,
     "start_time": "2025-02-19T06:08:41.895641",
     "status": "completed"
    },
    "tags": []
   },
   "outputs": [
    {
     "name": "stderr",
     "output_type": "stream",
     "text": [
      "/usr/local/lib/python3.10/dist-packages/xgboost/core.py:160: UserWarning: [06:08:43] WARNING: /workspace/src/learner.cc:742: \n",
      "Parameters: { \"min_child_weights\" } are not used.\n",
      "\n",
      "  warnings.warn(smsg, UserWarning)\n",
      "/usr/local/lib/python3.10/dist-packages/xgboost/core.py:160: UserWarning: [06:08:46] WARNING: /workspace/src/learner.cc:742: \n",
      "Parameters: { \"min_child_weights\" } are not used.\n",
      "\n",
      "  warnings.warn(smsg, UserWarning)\n",
      "/usr/local/lib/python3.10/dist-packages/xgboost/core.py:160: UserWarning: [06:08:50] WARNING: /workspace/src/learner.cc:742: \n",
      "Parameters: { \"min_child_weights\" } are not used.\n",
      "\n",
      "  warnings.warn(smsg, UserWarning)\n",
      "/usr/local/lib/python3.10/dist-packages/xgboost/core.py:160: UserWarning: [06:08:54] WARNING: /workspace/src/learner.cc:742: \n",
      "Parameters: { \"min_child_weights\" } are not used.\n",
      "\n",
      "  warnings.warn(smsg, UserWarning)\n",
      "/usr/local/lib/python3.10/dist-packages/xgboost/core.py:160: UserWarning: [06:08:58] WARNING: /workspace/src/learner.cc:742: \n",
      "Parameters: { \"min_child_weights\" } are not used.\n",
      "\n",
      "  warnings.warn(smsg, UserWarning)\n"
     ]
    },
    {
     "name": "stdout",
     "output_type": "stream",
     "text": [
      "AUC Scores: [0.99979605 0.99987372 0.999848   0.99986158 0.99984191]\n"
     ]
    }
   ],
   "source": [
    "from sklearn.model_selection import StratifiedKFold, cross_val_score\n",
    "\n",
    "cv = StratifiedKFold(n_splits=5, shuffle=True, random_state=0)\n",
    "auc_scores = cross_val_score(model, X, y, cv=cv, scoring='roc_auc')\n",
    "print(f\"AUC Scores: {auc_scores}\")"
   ]
  },
  {
   "cell_type": "markdown",
   "id": "bdf03180",
   "metadata": {
    "papermill": {
     "duration": 0.00683,
     "end_time": "2025-02-19T06:09:00.821482",
     "exception": false,
     "start_time": "2025-02-19T06:09:00.814652",
     "status": "completed"
    },
    "tags": []
   },
   "source": [
    "### VISUALIZATIONS"
   ]
  },
  {
   "cell_type": "code",
   "execution_count": 19,
   "id": "08f874ab",
   "metadata": {
    "execution": {
     "iopub.execute_input": "2025-02-19T06:09:00.837122Z",
     "iopub.status.busy": "2025-02-19T06:09:00.836760Z",
     "iopub.status.idle": "2025-02-19T06:09:01.702284Z",
     "shell.execute_reply": "2025-02-19T06:09:01.701130Z"
    },
    "papermill": {
     "duration": 0.875557,
     "end_time": "2025-02-19T06:09:01.704091",
     "exception": false,
     "start_time": "2025-02-19T06:09:00.828534",
     "status": "completed"
    },
    "tags": []
   },
   "outputs": [
    {
     "data": {
      "image/png": "[encoded data removed]",
      "text/plain": [
       "<Figure size 500x400 with 2 Axes>"
      ]
     },
     "metadata": {},
     "output_type": "display_data"
    }
   ],
   "source": [
    "import seaborn as sns\n",
    "import matplotlib.pyplot as plt\n",
    "from sklearn.metrics import confusion_matrix\n",
    "\n",
    "cm = confusion_matrix(y_test, y_test_pred)\n",
    "plt.figure(figsize=(5,4))\n",
    "sns.heatmap(cm, annot=True, fmt='d', cmap='Blues', xticklabels=['Not Fraud', 'Fraud'], yticklabels=['Not Fraud', 'Fraud'])\n",
    "plt.xlabel('Predicted')\n",
    "plt.ylabel('Actual')\n",
    "plt.title('Confusion Matrix')\n",
    "plt.show()\n"
   ]
  },
  {
   "cell_type": "code",
   "execution_count": 20,
   "id": "97e749f0",
   "metadata": {
    "execution": {
     "iopub.execute_input": "2025-02-19T06:09:01.721262Z",
     "iopub.status.busy": "2025-02-19T06:09:01.720713Z",
     "iopub.status.idle": "2025-02-19T06:09:01.933006Z",
     "shell.execute_reply": "2025-02-19T06:09:01.931896Z"
    },
    "papermill": {
     "duration": 0.222458,
     "end_time": "2025-02-19T06:09:01.934636",
     "exception": false,
     "start_time": "2025-02-19T06:09:01.712178",
     "status": "completed"
    },
    "tags": []
   },
   "outputs": [
    {
     "data": {
      "image/png": "[encoded data removed]",
      "text/plain": [
       "<Figure size 640x480 with 1 Axes>"
      ]
     },
     "metadata": {},
     "output_type": "display_data"
    }
   ],
   "source": [
    "xgb.plot_importance(model, max_num_features=10)\n",
    "plt.show()\n"
   ]
  },
  {
   "cell_type": "code",
   "execution_count": 21,
   "id": "b1c99eaa",
   "metadata": {
    "execution": {
     "iopub.execute_input": "2025-02-19T06:09:01.953271Z",
     "iopub.status.busy": "2025-02-19T06:09:01.952871Z",
     "iopub.status.idle": "2025-02-19T06:09:01.962240Z",
     "shell.execute_reply": "2025-02-19T06:09:01.960394Z"
    },
    "papermill": {
     "duration": 0.020521,
     "end_time": "2025-02-19T06:09:01.964061",
     "exception": false,
     "start_time": "2025-02-19T06:09:01.943540",
     "status": "completed"
    },
    "tags": []
   },
   "outputs": [
    {
     "data": {
      "text/plain": [
       "['creditcard_model.pkl']"
      ]
     },
     "execution_count": 21,
     "metadata": {},
     "output_type": "execute_result"
    }
   ],
   "source": [
    "import joblib\n",
    "joblib.dump(model, 'creditcard_model.pkl')"
   ]
  },
  {
   "cell_type": "code",
   "execution_count": null,
   "id": "d392caf7",
   "metadata": {
    "papermill": {
     "duration": 0.008239,
     "end_time": "2025-02-19T06:09:01.982958",
     "exception": false,
     "start_time": "2025-02-19T06:09:01.974719",
     "status": "completed"
    },
    "tags": []
   },
   "outputs": [],
   "source": []
  }
 ],
 "metadata": {
  "kaggle": {
   "accelerator": "none",
   "dataSources": [
    {
     "datasetId": 3752264,
     "sourceId": 6492730,
     "sourceType": "datasetVersion"
    }
   ],
   "dockerImageVersionId": 30886,
   "isGpuEnabled": false,
   "isInternetEnabled": false,
   "language": "python",
   "sourceType": "notebook"
  },
  "kernelspec": {
   "display_name": "Python 3",
   "language": "python",
   "name": "python3"
  },
  "language_info": {
   "codemirror_mode": {
    "name": "ipython",
    "version": 3
   },
   "file_extension": ".py",
   "mimetype": "text/x-python",
   "name": "python",
   "nbconvert_exporter": "python",
   "pygments_lexer": "ipython3",
   "version": "3.10.12"
  },
  "papermill": {
   "default_parameters": {},
   "duration": 41.880927,
   "end_time": "2025-02-19T06:09:02.711919",
   "environment_variables": {},
   "exception": null,
   "input_path": "__notebook__.ipynb",
   "output_path": "__notebook__.ipynb",
   "parameters": {},
   "start_time": "2025-02-19T06:08:20.830992",
   "version": "2.6.0"
  }
 },
 "nbformat": 4,
 "nbformat_minor": 5
}
